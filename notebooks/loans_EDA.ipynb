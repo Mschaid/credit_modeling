{
 "cells": [
  {
   "cell_type": "code",
   "execution_count": 97,
   "metadata": {},
   "outputs": [
    {
     "name": "stdout",
     "output_type": "stream",
     "text": [
      "The autoreload extension is already loaded. To reload it, use:\n",
      "  %reload_ext autoreload\n"
     ]
    }
   ],
   "source": [
    "%load_ext autoreload\n",
    "%autoreload 2"
   ]
  },
  {
   "cell_type": "code",
   "execution_count": 151,
   "metadata": {},
   "outputs": [],
   "source": [
    "import numpy as np\n",
    "import matplotlib.pyplot as plt\n",
    "import pandas as pd\n",
    "import re\n",
    "import seaborn as sns\n",
    "import seaborn.objects as so"
   ]
  },
  {
   "cell_type": "code",
   "execution_count": 136,
   "metadata": {},
   "outputs": [
    {
     "data": {
      "text/plain": [
       "id                             object\n",
       "member_id                     float64\n",
       "loan_amnt                     float64\n",
       "funded_amnt                   float64\n",
       "funded_amnt_inv               float64\n",
       "term                           object\n",
       "int_rate                       object\n",
       "installment                   float64\n",
       "grade                          object\n",
       "sub_grade                      object\n",
       "emp_title                      object\n",
       "emp_length                     object\n",
       "home_ownership                 object\n",
       "annual_inc                    float64\n",
       "verification_status            object\n",
       "issue_d                        object\n",
       "loan_status                    object\n",
       "pymnt_plan                     object\n",
       "purpose                        object\n",
       "title                          object\n",
       "zip_code                       object\n",
       "addr_state                     object\n",
       "dti                           float64\n",
       "delinq_2yrs                   float64\n",
       "earliest_cr_line               object\n",
       "inq_last_6mths                float64\n",
       "open_acc                      float64\n",
       "pub_rec                       float64\n",
       "revol_bal                     float64\n",
       "revol_util                     object\n",
       "total_acc                     float64\n",
       "initial_list_status            object\n",
       "out_prncp                     float64\n",
       "out_prncp_inv                 float64\n",
       "total_pymnt                   float64\n",
       "total_pymnt_inv               float64\n",
       "total_rec_prncp               float64\n",
       "total_rec_int                 float64\n",
       "total_rec_late_fee            float64\n",
       "recoveries                    float64\n",
       "collection_recovery_fee       float64\n",
       "last_pymnt_d                   object\n",
       "last_pymnt_amnt               float64\n",
       "last_credit_pull_d             object\n",
       "collections_12_mths_ex_med    float64\n",
       "policy_code                   float64\n",
       "application_type               object\n",
       "acc_now_delinq                float64\n",
       "chargeoff_within_12_mths      float64\n",
       "delinq_amnt                   float64\n",
       "pub_rec_bankruptcies          float64\n",
       "tax_liens                     float64\n",
       "dtype: object"
      ]
     },
     "execution_count": 136,
     "metadata": {},
     "output_type": "execute_result"
    }
   ],
   "source": [
    "raw_data = pd.read_csv(f'/Users/michaelschaid/GitHub/credit_modeling/data/loans_2007.csv', low_memory=False)\n",
    "raw_data.dtypes"
   ]
  },
  {
   "cell_type": "code",
   "execution_count": 205,
   "metadata": {},
   "outputs": [
    {
     "ename": "AttributeError",
     "evalue": "'StringMethods' object has no attribute 'contrains'",
     "output_type": "error",
     "traceback": [
      "\u001b[0;31m---------------------------------------------------------------------------\u001b[0m",
      "\u001b[0;31mAttributeError\u001b[0m                            Traceback (most recent call last)",
      "Cell \u001b[0;32mIn [205], line 29\u001b[0m\n\u001b[1;32m      8\u001b[0m     ordinal_grade_type \u001b[39m=\u001b[39m pd\u001b[39m.\u001b[39mCategoricalDtype(categories \u001b[39m=\u001b[39m \u001b[39msorted\u001b[39m(df\u001b[39m.\u001b[39mgrade\u001b[39m.\u001b[39mdropna()\u001b[39m.\u001b[39munique()), ordered \u001b[39m=\u001b[39m \u001b[39mTrue\u001b[39;00m)\n\u001b[1;32m     10\u001b[0m     \u001b[39mreturn\u001b[39;00m(\n\u001b[1;32m     11\u001b[0m         df\n\u001b[1;32m     12\u001b[0m         \u001b[39m.\u001b[39miloc[:\u001b[39m-\u001b[39m\u001b[39m2\u001b[39m]\n\u001b[0;32m   (...)\u001b[0m\n\u001b[1;32m     26\u001b[0m \n\u001b[1;32m     27\u001b[0m         )\n\u001b[0;32m---> 29\u001b[0m loans \u001b[39m=\u001b[39m clean_loans(raw_data)\n",
      "Cell \u001b[0;32mIn [205], line 11\u001b[0m, in \u001b[0;36mclean_loans\u001b[0;34m(df)\u001b[0m\n\u001b[1;32m      5\u001b[0m     \u001b[39mreturn\u001b[39;00m [col \u001b[39mfor\u001b[39;00m col \u001b[39min\u001b[39;00m _df\u001b[39m.\u001b[39mcolumns \u001b[39mif\u001b[39;00m _df[col]\u001b[39m.\u001b[39misnull()\u001b[39m.\u001b[39msum() \u001b[39m>\u001b[39m (_df\u001b[39m.\u001b[39mshape[\u001b[39m0\u001b[39m]\u001b[39m*\u001b[39mthreshold)]\n\u001b[1;32m      8\u001b[0m ordinal_grade_type \u001b[39m=\u001b[39m pd\u001b[39m.\u001b[39mCategoricalDtype(categories \u001b[39m=\u001b[39m \u001b[39msorted\u001b[39m(df\u001b[39m.\u001b[39mgrade\u001b[39m.\u001b[39mdropna()\u001b[39m.\u001b[39munique()), ordered \u001b[39m=\u001b[39m \u001b[39mTrue\u001b[39;00m)\n\u001b[1;32m     10\u001b[0m \u001b[39mreturn\u001b[39;00m(\n\u001b[0;32m---> 11\u001b[0m     df\n\u001b[1;32m     12\u001b[0m     \u001b[39m.\u001b[39;49miloc[:\u001b[39m-\u001b[39;49m\u001b[39m2\u001b[39;49m]\n\u001b[1;32m     13\u001b[0m     \u001b[39m.\u001b[39;49mdrop(columns \u001b[39m=\u001b[39;49m find_cols_with_missing_data(df, threshold \u001b[39m=\u001b[39;49m \u001b[39m0.5\u001b[39;49m))\n\u001b[1;32m     14\u001b[0m     \u001b[39m.\u001b[39;49mrename(columns \u001b[39m=\u001b[39;49m {\u001b[39m'\u001b[39;49m\u001b[39mterm\u001b[39;49m\u001b[39m'\u001b[39;49m:\u001b[39m'\u001b[39;49m\u001b[39mterm_mo\u001b[39;49m\u001b[39m'\u001b[39;49m,\u001b[39m'\u001b[39;49m\u001b[39mint_rate\u001b[39;49m\u001b[39m'\u001b[39;49m:\u001b[39m'\u001b[39;49m\u001b[39mint_rate_percent\u001b[39;49m\u001b[39m'\u001b[39;49m })\n\u001b[1;32m     15\u001b[0m     \u001b[39m.\u001b[39;49massign(term_mo  \u001b[39m=\u001b[39;49m  \u001b[39mlambda\u001b[39;49;00m df_: df_\u001b[39m.\u001b[39;49mterm_mo\u001b[39m.\u001b[39;49mstr\u001b[39m.\u001b[39;49mreplace(\u001b[39m'\u001b[39;49m\u001b[39m months\u001b[39;49m\u001b[39m'\u001b[39;49m, \u001b[39m'\u001b[39;49m\u001b[39m'\u001b[39;49m)\u001b[39m.\u001b[39;49mdropna()\u001b[39m.\u001b[39;49mastype(\u001b[39mint\u001b[39;49m),\n\u001b[1;32m     16\u001b[0m             int_rate_percent \u001b[39m=\u001b[39;49m \u001b[39mlambda\u001b[39;49;00m df_: df_\u001b[39m.\u001b[39;49mint_rate_percent\u001b[39m.\u001b[39;49mstr\u001b[39m.\u001b[39;49mreplace(\u001b[39m'\u001b[39;49m\u001b[39m%\u001b[39;49m\u001b[39m'\u001b[39;49m,\u001b[39m'\u001b[39;49m\u001b[39m'\u001b[39;49m)\u001b[39m.\u001b[39;49mastype(\u001b[39mfloat\u001b[39;49m),\n\u001b[1;32m     17\u001b[0m             grade \u001b[39m=\u001b[39;49m \u001b[39mlambda\u001b[39;49;00m df_: df_\u001b[39m.\u001b[39;49mgrade\u001b[39m.\u001b[39;49mastype(ordinal_grade_type),\n\u001b[1;32m     18\u001b[0m             emp_title \u001b[39m=\u001b[39;49m \u001b[39mlambda\u001b[39;49;00m df_: df_\u001b[39m.\u001b[39;49memp_title\u001b[39m.\u001b[39;49mfillna(\u001b[39m'\u001b[39;49m\u001b[39mnot_given\u001b[39;49m\u001b[39m'\u001b[39;49m)\u001b[39m.\u001b[39;49mstr\u001b[39m.\u001b[39;49mlower(),\n\u001b[1;32m     19\u001b[0m             emp_length \u001b[39m=\u001b[39;49m \u001b[39mlambda\u001b[39;49;00m df_: df_\u001b[39m.\u001b[39;49memp_length\u001b[39m.\u001b[39;49mstr\u001b[39m.\u001b[39;49mreplace(\u001b[39m'\u001b[39;49m\u001b[39m\\\u001b[39;49m\u001b[39mD\u001b[39;49m\u001b[39m'\u001b[39;49m, \u001b[39m'\u001b[39;49m\u001b[39m'\u001b[39;49m, regex \u001b[39m=\u001b[39;49m \u001b[39mTrue\u001b[39;49;00m),\n\u001b[1;32m     20\u001b[0m             not_verified \u001b[39m=\u001b[39;49m \u001b[39mlambda\u001b[39;49;00m df_: df_\u001b[39m.\u001b[39;49mverification_status\u001b[39m.\u001b[39;49mstr\u001b[39m.\u001b[39;49mcontains(\u001b[39m'\u001b[39;49m\u001b[39m[nN]ot\u001b[39;49m\u001b[39m'\u001b[39;49m),\n\u001b[1;32m     21\u001b[0m             renter \u001b[39m=\u001b[39;49m \u001b[39mlambda\u001b[39;49;00m df_: df_\u001b[39m.\u001b[39;49mhome_ownership\u001b[39m.\u001b[39;49mstr\u001b[39m.\u001b[39;49mcontrains(\u001b[39m'\u001b[39;49m\u001b[39mRENT\u001b[39;49m\u001b[39m'\u001b[39;49m)\n\u001b[1;32m     22\u001b[0m             \n\u001b[1;32m     23\u001b[0m             )\n\u001b[1;32m     24\u001b[0m     \u001b[39m.\u001b[39mdrop(columns \u001b[39m=\u001b[39m [\u001b[39m'\u001b[39m\u001b[39mverification_status\u001b[39m\u001b[39m'\u001b[39m, \u001b[39m'\u001b[39m\u001b[39msub_grade\u001b[39m\u001b[39m'\u001b[39m, \u001b[39m'\u001b[39m\u001b[39mid\u001b[39m\u001b[39m'\u001b[39m, \u001b[39m'\u001b[39m\u001b[39mmember_id\u001b[39m\u001b[39m'\u001b[39m])\n\u001b[1;32m     25\u001b[0m     \u001b[39m.\u001b[39mdropna()\n\u001b[1;32m     26\u001b[0m \n\u001b[1;32m     27\u001b[0m     )\n",
      "File \u001b[0;32m~/opt/anaconda3/envs/digits/lib/python3.10/site-packages/pandas/core/frame.py:4879\u001b[0m, in \u001b[0;36mDataFrame.assign\u001b[0;34m(self, **kwargs)\u001b[0m\n\u001b[1;32m   4876\u001b[0m data \u001b[39m=\u001b[39m \u001b[39mself\u001b[39m\u001b[39m.\u001b[39mcopy()\n\u001b[1;32m   4878\u001b[0m \u001b[39mfor\u001b[39;00m k, v \u001b[39min\u001b[39;00m kwargs\u001b[39m.\u001b[39mitems():\n\u001b[0;32m-> 4879\u001b[0m     data[k] \u001b[39m=\u001b[39m com\u001b[39m.\u001b[39;49mapply_if_callable(v, data)\n\u001b[1;32m   4880\u001b[0m \u001b[39mreturn\u001b[39;00m data\n",
      "File \u001b[0;32m~/opt/anaconda3/envs/digits/lib/python3.10/site-packages/pandas/core/common.py:364\u001b[0m, in \u001b[0;36mapply_if_callable\u001b[0;34m(maybe_callable, obj, **kwargs)\u001b[0m\n\u001b[1;32m    353\u001b[0m \u001b[39m\"\"\"\u001b[39;00m\n\u001b[1;32m    354\u001b[0m \u001b[39mEvaluate possibly callable input using obj and kwargs if it is callable,\u001b[39;00m\n\u001b[1;32m    355\u001b[0m \u001b[39motherwise return as it is.\u001b[39;00m\n\u001b[0;32m   (...)\u001b[0m\n\u001b[1;32m    361\u001b[0m \u001b[39m**kwargs\u001b[39;00m\n\u001b[1;32m    362\u001b[0m \u001b[39m\"\"\"\u001b[39;00m\n\u001b[1;32m    363\u001b[0m \u001b[39mif\u001b[39;00m callable(maybe_callable):\n\u001b[0;32m--> 364\u001b[0m     \u001b[39mreturn\u001b[39;00m maybe_callable(obj, \u001b[39m*\u001b[39;49m\u001b[39m*\u001b[39;49mkwargs)\n\u001b[1;32m    366\u001b[0m \u001b[39mreturn\u001b[39;00m maybe_callable\n",
      "Cell \u001b[0;32mIn [205], line 21\u001b[0m, in \u001b[0;36mclean_loans.<locals>.<lambda>\u001b[0;34m(df_)\u001b[0m\n\u001b[1;32m      5\u001b[0m     \u001b[39mreturn\u001b[39;00m [col \u001b[39mfor\u001b[39;00m col \u001b[39min\u001b[39;00m _df\u001b[39m.\u001b[39mcolumns \u001b[39mif\u001b[39;00m _df[col]\u001b[39m.\u001b[39misnull()\u001b[39m.\u001b[39msum() \u001b[39m>\u001b[39m (_df\u001b[39m.\u001b[39mshape[\u001b[39m0\u001b[39m]\u001b[39m*\u001b[39mthreshold)]\n\u001b[1;32m      8\u001b[0m ordinal_grade_type \u001b[39m=\u001b[39m pd\u001b[39m.\u001b[39mCategoricalDtype(categories \u001b[39m=\u001b[39m \u001b[39msorted\u001b[39m(df\u001b[39m.\u001b[39mgrade\u001b[39m.\u001b[39mdropna()\u001b[39m.\u001b[39munique()), ordered \u001b[39m=\u001b[39m \u001b[39mTrue\u001b[39;00m)\n\u001b[1;32m     10\u001b[0m \u001b[39mreturn\u001b[39;00m(\n\u001b[1;32m     11\u001b[0m     df\n\u001b[1;32m     12\u001b[0m     \u001b[39m.\u001b[39miloc[:\u001b[39m-\u001b[39m\u001b[39m2\u001b[39m]\n\u001b[1;32m     13\u001b[0m     \u001b[39m.\u001b[39mdrop(columns \u001b[39m=\u001b[39m find_cols_with_missing_data(df, threshold \u001b[39m=\u001b[39m \u001b[39m0.5\u001b[39m))\n\u001b[1;32m     14\u001b[0m     \u001b[39m.\u001b[39mrename(columns \u001b[39m=\u001b[39m {\u001b[39m'\u001b[39m\u001b[39mterm\u001b[39m\u001b[39m'\u001b[39m:\u001b[39m'\u001b[39m\u001b[39mterm_mo\u001b[39m\u001b[39m'\u001b[39m,\u001b[39m'\u001b[39m\u001b[39mint_rate\u001b[39m\u001b[39m'\u001b[39m:\u001b[39m'\u001b[39m\u001b[39mint_rate_percent\u001b[39m\u001b[39m'\u001b[39m })\n\u001b[1;32m     15\u001b[0m     \u001b[39m.\u001b[39massign(term_mo  \u001b[39m=\u001b[39m  \u001b[39mlambda\u001b[39;00m df_: df_\u001b[39m.\u001b[39mterm_mo\u001b[39m.\u001b[39mstr\u001b[39m.\u001b[39mreplace(\u001b[39m'\u001b[39m\u001b[39m months\u001b[39m\u001b[39m'\u001b[39m, \u001b[39m'\u001b[39m\u001b[39m'\u001b[39m)\u001b[39m.\u001b[39mdropna()\u001b[39m.\u001b[39mastype(\u001b[39mint\u001b[39m),\n\u001b[1;32m     16\u001b[0m             int_rate_percent \u001b[39m=\u001b[39m \u001b[39mlambda\u001b[39;00m df_: df_\u001b[39m.\u001b[39mint_rate_percent\u001b[39m.\u001b[39mstr\u001b[39m.\u001b[39mreplace(\u001b[39m'\u001b[39m\u001b[39m%\u001b[39m\u001b[39m'\u001b[39m,\u001b[39m'\u001b[39m\u001b[39m'\u001b[39m)\u001b[39m.\u001b[39mastype(\u001b[39mfloat\u001b[39m),\n\u001b[1;32m     17\u001b[0m             grade \u001b[39m=\u001b[39m \u001b[39mlambda\u001b[39;00m df_: df_\u001b[39m.\u001b[39mgrade\u001b[39m.\u001b[39mastype(ordinal_grade_type),\n\u001b[1;32m     18\u001b[0m             emp_title \u001b[39m=\u001b[39m \u001b[39mlambda\u001b[39;00m df_: df_\u001b[39m.\u001b[39memp_title\u001b[39m.\u001b[39mfillna(\u001b[39m'\u001b[39m\u001b[39mnot_given\u001b[39m\u001b[39m'\u001b[39m)\u001b[39m.\u001b[39mstr\u001b[39m.\u001b[39mlower(),\n\u001b[1;32m     19\u001b[0m             emp_length \u001b[39m=\u001b[39m \u001b[39mlambda\u001b[39;00m df_: df_\u001b[39m.\u001b[39memp_length\u001b[39m.\u001b[39mstr\u001b[39m.\u001b[39mreplace(\u001b[39m'\u001b[39m\u001b[39m\\\u001b[39m\u001b[39mD\u001b[39m\u001b[39m'\u001b[39m, \u001b[39m'\u001b[39m\u001b[39m'\u001b[39m, regex \u001b[39m=\u001b[39m \u001b[39mTrue\u001b[39;00m),\n\u001b[1;32m     20\u001b[0m             not_verified \u001b[39m=\u001b[39m \u001b[39mlambda\u001b[39;00m df_: df_\u001b[39m.\u001b[39mverification_status\u001b[39m.\u001b[39mstr\u001b[39m.\u001b[39mcontains(\u001b[39m'\u001b[39m\u001b[39m[nN]ot\u001b[39m\u001b[39m'\u001b[39m),\n\u001b[0;32m---> 21\u001b[0m             renter \u001b[39m=\u001b[39m \u001b[39mlambda\u001b[39;00m df_: df_\u001b[39m.\u001b[39;49mhome_ownership\u001b[39m.\u001b[39;49mstr\u001b[39m.\u001b[39;49mcontrains(\u001b[39m'\u001b[39m\u001b[39mRENT\u001b[39m\u001b[39m'\u001b[39m)\n\u001b[1;32m     22\u001b[0m             \n\u001b[1;32m     23\u001b[0m             )\n\u001b[1;32m     24\u001b[0m     \u001b[39m.\u001b[39mdrop(columns \u001b[39m=\u001b[39m [\u001b[39m'\u001b[39m\u001b[39mverification_status\u001b[39m\u001b[39m'\u001b[39m, \u001b[39m'\u001b[39m\u001b[39msub_grade\u001b[39m\u001b[39m'\u001b[39m, \u001b[39m'\u001b[39m\u001b[39mid\u001b[39m\u001b[39m'\u001b[39m, \u001b[39m'\u001b[39m\u001b[39mmember_id\u001b[39m\u001b[39m'\u001b[39m])\n\u001b[1;32m     25\u001b[0m     \u001b[39m.\u001b[39mdropna()\n\u001b[1;32m     26\u001b[0m \n\u001b[1;32m     27\u001b[0m     )\n",
      "\u001b[0;31mAttributeError\u001b[0m: 'StringMethods' object has no attribute 'contrains'"
     ]
    }
   ],
   "source": [
    "def clean_loans(df):\n",
    "    \n",
    "    def find_cols_with_missing_data(_df, threshold):\n",
    "        \"\"\"Returns a list of columns with missing data over specified threshold\"\"\"\n",
    "        return [col for col in _df.columns if _df[col].isnull().sum() > (_df.shape[0]*threshold)]\n",
    "    \n",
    "        \n",
    "    ordinal_grade_type = pd.CategoricalDtype(categories = sorted(df.grade.dropna().unique()), ordered = True)\n",
    "    \n",
    "    return(\n",
    "        df\n",
    "        .iloc[:-2]\n",
    "        .drop(columns = find_cols_with_missing_data(df, threshold = 0.5))\n",
    "        .rename(columns = {'term':'term_mo','int_rate':'int_rate_percent' })\n",
    "        .assign(term_mo  =  lambda df_: df_.term_mo.str.replace(' months', '').dropna().astype(int),\n",
    "                int_rate_percent = lambda df_: df_.int_rate_percent.str.replace('%','').astype(float),\n",
    "                grade = lambda df_: df_.grade.astype(ordinal_grade_type),\n",
    "                emp_title = lambda df_: df_.emp_title.fillna('not_given').str.lower(),\n",
    "                emp_length = lambda df_: df_.emp_length.str.replace('\\D', '', regex = True),\n",
    "                not_verified = lambda df_: df_.verification_status.str.contains('[nN]ot'),\n",
    "                renter = lambda df_: df_.home_ownership.str.contrains('RENT')\n",
    "                \n",
    "                )\n",
    "        .drop(columns = ['verification_status', 'sub_grade', 'id', 'member_id'])\n",
    "        .dropna()\n",
    "\n",
    "        )\n",
    "    \n",
    "loans = clean_loans(raw_data)\n",
    "\n",
    "    "
   ]
  },
  {
   "cell_type": "code",
   "execution_count": 204,
   "metadata": {},
   "outputs": [
    {
     "data": {
      "text/plain": [
       "'G'"
      ]
     },
     "execution_count": 204,
     "metadata": {},
     "output_type": "execute_result"
    }
   ],
   "source": [
    "loans.grade.max()"
   ]
  },
  {
   "cell_type": "code",
   "execution_count": 201,
   "metadata": {},
   "outputs": [
    {
     "data": {
      "text/plain": [
       "0        B\n",
       "1        C\n",
       "2        C\n",
       "3        C\n",
       "4        B\n",
       "        ..\n",
       "42531    C\n",
       "42532    B\n",
       "42533    B\n",
       "42534    A\n",
       "42535    A\n",
       "Name: grade, Length: 42535, dtype: object"
      ]
     },
     "execution_count": 201,
     "metadata": {},
     "output_type": "execute_result"
    }
   ],
   "source": [
    "raw_data.grade.dropna()"
   ]
  },
  {
   "cell_type": "code",
   "execution_count": null,
   "metadata": {},
   "outputs": [],
   "source": []
  }
 ],
 "metadata": {
  "kernelspec": {
   "display_name": "Python 3.10.6 ('digits')",
   "language": "python",
   "name": "python3"
  },
  "language_info": {
   "codemirror_mode": {
    "name": "ipython",
    "version": 3
   },
   "file_extension": ".py",
   "mimetype": "text/x-python",
   "name": "python",
   "nbconvert_exporter": "python",
   "pygments_lexer": "ipython3",
   "version": "3.10.6"
  },
  "orig_nbformat": 4,
  "vscode": {
   "interpreter": {
    "hash": "df2031bcd445eefd9900a2aea810357eabeb38fcb159263ae28a0920f93a0ad2"
   }
  }
 },
 "nbformat": 4,
 "nbformat_minor": 2
}
