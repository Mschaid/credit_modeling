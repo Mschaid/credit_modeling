{
 "cells": [
  {
   "cell_type": "code",
   "execution_count": 1,
   "metadata": {},
   "outputs": [],
   "source": [
    "%load_ext autoreload\n",
    "%autoreload 2"
   ]
  },
  {
   "cell_type": "code",
   "execution_count": 2,
   "metadata": {},
   "outputs": [],
   "source": [
    "import numpy as np\n",
    "import matplotlib.pyplot as plt\n",
    "import pandas as pd\n",
    "import re\n",
    "import seaborn as sns\n",
    "import seaborn.objects as so"
   ]
  },
  {
   "cell_type": "code",
   "execution_count": 132,
   "metadata": {},
   "outputs": [],
   "source": [
    "raw_data = pd.read_csv(r'C:\\Users\\mds8301\\Documents\\Github\\credit_modeling\\data\\loans_2007.csv', low_memory=False)"
   ]
  },
  {
   "cell_type": "code",
   "execution_count": 137,
   "metadata": {},
   "outputs": [],
   "source": [
    "def clean_loans(df):\n",
    "    \n",
    "    def find_cols_with_missing_data(_df, threshold):\n",
    "        \"\"\"Returns a list of columns with missing data over specified threshold\"\"\"\n",
    "        return [col for col in _df.columns if _df[col].isnull().sum() > (_df.shape[0]*threshold)]\n",
    "    \n",
    "    def find_cols_with_single_val(_df):\n",
    "        \"\"\" returns a list of columns with single unique values\"\"\"\n",
    "        non_uniuqe_vals = _df.nunique(dropna= True) ==1 \n",
    "        return [non_uniuqe_vals.index[i] for i,col in enumerate(non_uniuqe_vals) if col == True]\n",
    "    \n",
    "    missing_data_cols = find_cols_with_missing_data(df, threshold = 0.5)\n",
    "    non_uniq_cols = find_cols_with_single_val(df)\n",
    "\n",
    "    data_leak_cols = ['out_prncp', 'out_prncp_inv', 'total_pymnt','total_pymnt_inv', 'total_rec_prncp',\n",
    "                      'total_rec_int', 'total_rec_late_fee', 'recoveries', 'collection_recovery_fee',\n",
    "                      'funded_amnt', 'funded_amnt_inv','issue_d', 'last_pymnt_d', 'last_pymnt_amnt'\n",
    "                      ]\n",
    "    \n",
    "    non_useful_cols = ['title','emp_title' ]\n",
    "    edited_cols = ['verification_status', 'sub_grade', 'id', 'member_id','verification_status','pymnt_plan', 'zip_code']\n",
    "    \n",
    "    columns_to_drop = [*missing_data_cols, *data_leak_cols, *edited_cols, *non_uniq_cols]\n",
    "        \n",
    "    ordinal_grade_type = pd.CategoricalDtype(categories = sorted(df.grade.dropna().unique()), ordered = True)\n",
    "    \n",
    "    return(\n",
    "        df\n",
    "        .iloc[:-2]\n",
    "        .rename(columns = {'int_rate':'int_rate_percent' })\n",
    "        .assign(int_rate_percent = lambda df_: df_.int_rate_percent.str.replace('%','').astype(float),\n",
    "                grade = lambda df_: df_.grade.astype(ordinal_grade_type),\n",
    "                emp_length = lambda df_: df_.emp_length.str.replace('\\D', '', regex = True),\n",
    "                not_verified = lambda df_: df_.verification_status.str.contains('[nN]ot').astype(bool),\n",
    "                renter = lambda df_: df_.home_ownership.str.contains('RENT'),\n",
    "                payment_plan = lambda df_: df_.pymnt_plan.str.contains('y'),\n",
    "                earliest_cr_line = lambda df_: pd.to_datetime(df_.earliest_cr_line),\n",
    "                revol_util = lambda df_: df_.revol_util.str.replace('%', '').astype(float)\n",
    "                )\n",
    "        .drop(columns = columns_to_drop)\n",
    "        .dropna()\n",
    "        .query(\"loan_status == 'Fully Paid' or loan_status == 'Charged Off'\")\n",
    "        .replace(\n",
    "            {\n",
    "            \"loan_status\": {\"Fully Paid\": 1, \"Charged Off\": 0},\n",
    "            \"term\":{\" 36 months\": 0, \" 60 months\": 1}\n",
    "            }\n",
    "            )\n",
    "\n",
    "        )\n",
    "    \n",
    "\n",
    "\n",
    "    "
   ]
  },
  {
   "cell_type": "code",
   "execution_count": 138,
   "metadata": {},
   "outputs": [
    {
     "data": {
      "text/plain": [
       "Index(['loan_amnt', 'term', 'int_rate_percent', 'installment', 'grade',\n",
       "       'emp_title', 'emp_length', 'home_ownership', 'annual_inc',\n",
       "       'loan_status', 'purpose', 'title', 'addr_state', 'dti', 'delinq_2yrs',\n",
       "       'earliest_cr_line', 'inq_last_6mths', 'open_acc', 'pub_rec',\n",
       "       'revol_bal', 'revol_util', 'total_acc', 'last_credit_pull_d',\n",
       "       'acc_now_delinq', 'delinq_amnt', 'pub_rec_bankruptcies', 'tax_liens',\n",
       "       'not_verified', 'renter', 'payment_plan'],\n",
       "      dtype='object')"
      ]
     },
     "execution_count": 138,
     "metadata": {},
     "output_type": "execute_result"
    }
   ],
   "source": [
    "loans = clean_loans(raw_data)\n",
    "loans.columns"
   ]
  },
  {
   "cell_type": "code",
   "execution_count": 108,
   "metadata": {},
   "outputs": [
    {
     "data": {
      "text/plain": [
       "Index(['emp_title', 'emp_length', 'home_ownership', 'purpose', 'title',\n",
       "       'addr_state', 'last_credit_pull_d', 'renter', 'payment_plan'],\n",
       "      dtype='object')"
      ]
     },
     "execution_count": 108,
     "metadata": {},
     "output_type": "execute_result"
    }
   ],
   "source": [
    "loans.select_dtypes('object').columns"
   ]
  },
  {
   "cell_type": "code",
   "execution_count": 139,
   "metadata": {},
   "outputs": [
    {
     "data": {
      "text/plain": [
       "1        1\n",
       "3        0\n",
       "5        0\n",
       "6        1\n",
       "7        0\n",
       "        ..\n",
       "39620    0\n",
       "39631    0\n",
       "39692    0\n",
       "39735    0\n",
       "39749    0\n",
       "Name: term, Length: 35610, dtype: int64"
      ]
     },
     "execution_count": 139,
     "metadata": {},
     "output_type": "execute_result"
    }
   ],
   "source": [
    "loans.term"
   ]
  },
  {
   "cell_type": "code",
   "execution_count": null,
   "metadata": {},
   "outputs": [],
   "source": []
  }
 ],
 "metadata": {
  "kernelspec": {
   "display_name": "Python 3.10.6 ('digits')",
   "language": "python",
   "name": "python3"
  },
  "language_info": {
   "codemirror_mode": {
    "name": "ipython",
    "version": 3
   },
   "file_extension": ".py",
   "mimetype": "text/x-python",
   "name": "python",
   "nbconvert_exporter": "python",
   "pygments_lexer": "ipython3",
   "version": "3.10.6"
  },
  "orig_nbformat": 4,
  "vscode": {
   "interpreter": {
    "hash": "26b1b497ca87ef0f33c9d286366f75a5740a3756e4e15ac745694caf145bca78"
   }
  }
 },
 "nbformat": 4,
 "nbformat_minor": 2
}
