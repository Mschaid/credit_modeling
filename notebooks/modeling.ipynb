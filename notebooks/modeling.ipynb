{
 "cells": [
  {
   "cell_type": "code",
   "execution_count": 1,
   "metadata": {},
   "outputs": [],
   "source": [
    "%load_ext autoreload\n",
    "%autoreload 2"
   ]
  },
  {
   "cell_type": "code",
   "execution_count": 10,
   "metadata": {},
   "outputs": [],
   "source": [
    "import numpy as np\n",
    "import matplotlib.pyplot as plt\n",
    "import pandas as pd\n",
    "import re\n",
    "import seaborn as sns\n",
    "import seaborn.objects as so\n",
    "from sklearn.linear_model import LogisticRegression\n",
    "from sklearn.model_selection import cross_val_predict\n",
    "\n",
    "\n",
    "\n",
    "from src.DataProcessor import DataProcessor\n"
   ]
  },
  {
   "cell_type": "code",
   "execution_count": 11,
   "metadata": {},
   "outputs": [],
   "source": [
    "PATH = r'/Users/michaelschaid/GitHub/credit_modeling/data/loans_2007.csv'\n",
    "DATA = (DataProcessor(PATH, target = 'loan_status')\n",
    "        .load_data()\n",
    "        .clean_data()\n",
    "        .processes_dummies()\n",
    "        .extract_features_and_target()\n",
    "        )"
   ]
  },
  {
   "cell_type": "code",
   "execution_count": 18,
   "metadata": {},
   "outputs": [
    {
     "name": "stderr",
     "output_type": "stream",
     "text": [
      "/Users/michaelschaid/opt/anaconda3/envs/loans/lib/python3.10/site-packages/sklearn/linear_model/_logistic.py:444: ConvergenceWarning: lbfgs failed to converge (status=1):\n",
      "STOP: TOTAL NO. of ITERATIONS REACHED LIMIT.\n",
      "\n",
      "Increase the number of iterations (max_iter) or scale the data as shown in:\n",
      "    https://scikit-learn.org/stable/modules/preprocessing.html\n",
      "Please also refer to the documentation for alternative solver options:\n",
      "    https://scikit-learn.org/stable/modules/linear_model.html#logistic-regression\n",
      "  n_iter_i = _check_optimize_result(\n"
     ]
    }
   ],
   "source": [
    "\n",
    "lr = LogisticRegression()\n",
    "X = DATA.feature_data\n",
    "y = DATA.target_data\n",
    "y_pred = cross_val_predict(lr,X,y, cv=3)\n",
    "predictions = pd.Series(y_pred)\n"
   ]
  },
  {
   "cell_type": "code",
   "execution_count": 16,
   "metadata": {},
   "outputs": [
    {
     "data": {
      "text/plain": [
       "1    36923\n",
       "0       67\n",
       "dtype: int64"
      ]
     },
     "execution_count": 16,
     "metadata": {},
     "output_type": "execute_result"
    }
   ],
   "source": [
    "predictions.value_counts()"
   ]
  },
  {
   "cell_type": "code",
   "execution_count": 34,
   "metadata": {},
   "outputs": [
    {
     "name": "stdout",
     "output_type": "stream",
     "text": [
      "true positive rate: 0.9980286678472384, \n",
      " false postive rate 0.9991956565453448\n"
     ]
    }
   ],
   "source": [
    "def calculate_rates(y_pred: pd.Series, y_true: pd.Series)-> float:\n",
    "    \"\"\"## Summary\n",
    "    takes in predicted and acutal values, calculate true postive, true neg, false pos, and false neg\n",
    "    returns true postve rate and false postve rate\n",
    "    `\n",
    "\n",
    "    Args:\n",
    "        y_pred (pd.Series): predicted y values\n",
    "        y_true (pd.Seres): true y values\n",
    "\n",
    "    Returns:\n",
    "        tuple: true postve rate:float and false postve rate: float\n",
    "    \"\"\"\n",
    "    true_pos = sum((y_pred == 1) & (y_true == 1))\n",
    "    false_pos = sum((y_pred == 1) & (y_true == 0))\n",
    "    true_neg = sum((y_pred == 0) & (y_true == 0))\n",
    "    false_neg = sum((y_pred == 0) & (y_true == 1))\n",
    "    \n",
    "    false_pos_rate = false_pos/(false_pos + true_neg)\n",
    "    true_pos_rate = true_pos/(true_pos + false_neg)\n",
    "    \n",
    "    return true_pos_rate, false_pos_rate\n",
    "    \n",
    "    \n",
    "tpr, fpr = calculate_rates(predictions, y)\n",
    "print(f'true positive rate: {tpr}, \\n false postive rate {fpr}')"
   ]
  },
  {
   "cell_type": "markdown",
   "metadata": {},
   "source": [
    "Model is predictingly nearlly all ones, due to imbalance in the class\n",
    "We will test both: \n",
    "\n",
    "*  oversampling and undersampling to ensure that the classifier gets input that has a balanced number of each class.\n",
    "  \n",
    "* Tell the classifier to penalize misclassifications of the less prevalent class more than the other class.\n"
   ]
  },
  {
   "cell_type": "code",
   "execution_count": null,
   "metadata": {},
   "outputs": [],
   "source": []
  }
 ],
 "metadata": {
  "kernelspec": {
   "display_name": "Python 3.10.6 ('loans')",
   "language": "python",
   "name": "python3"
  },
  "language_info": {
   "codemirror_mode": {
    "name": "ipython",
    "version": 3
   },
   "file_extension": ".py",
   "mimetype": "text/x-python",
   "name": "python",
   "nbconvert_exporter": "python",
   "pygments_lexer": "ipython3",
   "version": "3.10.6"
  },
  "orig_nbformat": 4,
  "vscode": {
   "interpreter": {
    "hash": "d5ec545b9fee06e9f787a1f47250a5e44f5387111aa2e08974d24661e173ef1f"
   }
  }
 },
 "nbformat": 4,
 "nbformat_minor": 2
}
