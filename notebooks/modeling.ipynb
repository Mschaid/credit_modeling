{
 "cells": [
  {
   "cell_type": "code",
   "execution_count": 1,
   "metadata": {},
   "outputs": [],
   "source": [
    "%load_ext autoreload\n",
    "%autoreload 2"
   ]
  },
  {
   "cell_type": "code",
   "execution_count": 63,
   "metadata": {},
   "outputs": [],
   "source": [
    "import numpy as np\n",
    "import matplotlib.pyplot as plt\n",
    "import pandas as pd\n",
    "import re\n",
    "import seaborn as sns\n",
    "import seaborn.objects as so\n",
    "from sklearn.ensemble import RandomForestClassifier\n",
    "from sklearn.linear_model import LogisticRegression\n",
    "from sklearn.model_selection import cross_val_predict\n",
    "\n",
    "\n",
    "\n",
    "from src.DataProcessor import DataProcessor\n"
   ]
  },
  {
   "cell_type": "code",
   "execution_count": 38,
   "metadata": {},
   "outputs": [],
   "source": [
    "PATH = r'/Users/michaelschaid/GitHub/credit_modeling/data/loans_2007.csv'\n",
    "DATA = (DataProcessor(PATH, target = 'loan_status')\n",
    "        .load_data()\n",
    "        .clean_data()\n",
    "        .processes_dummies()\n",
    "        .extract_features_and_target()\n",
    "        )"
   ]
  },
  {
   "cell_type": "code",
   "execution_count": 64,
   "metadata": {},
   "outputs": [],
   "source": [
    "\n",
    "def fit_lr(max_iter=200, class_weight=None):\n",
    "    lr = LogisticRegression(max_iter=max_iter, class_weight=class_weight)\n",
    "    X = DATA.feature_data\n",
    "    y_true = DATA.target_data\n",
    "    y_pred = cross_val_predict(lr,X,y_true, cv=3)\n",
    "    return y_pred, y_true\n",
    "y_pred, y_true  = fit_lr(max_iter=200)"
   ]
  },
  {
   "cell_type": "code",
   "execution_count": 65,
   "metadata": {},
   "outputs": [
    {
     "name": "stdout",
     "output_type": "stream",
     "text": [
      "true positive rate: 0.9985812025096951, \n",
      " false postive rate 0.9962070927365826\n"
     ]
    }
   ],
   "source": [
    "def calculate_rates(y_pred: pd.Series, y_true: pd.Series)-> float:\n",
    "    \"\"\"## Summary\n",
    "    takes in predicted and acutal values, calculate true postive, true neg, false pos, and false neg\n",
    "    returns true postve rate and false postve rate\n",
    "    `\n",
    "\n",
    "    Args:\n",
    "        y_pred (pd.Series): predicted y values\n",
    "        y_true (pd.Seres): true y values\n",
    "\n",
    "    Returns:\n",
    "        tuple: true postve rate:float and false postve rate: float\n",
    "    \"\"\"\n",
    "    true_pos = sum((y_pred == 1) & (y_true == 1))\n",
    "    false_pos = sum((y_pred == 1) & (y_true == 0))\n",
    "    true_neg = sum((y_pred == 0) & (y_true == 0))\n",
    "    false_neg = sum((y_pred == 0) & (y_true == 1))\n",
    "    \n",
    "    false_pos_rate = false_pos/(false_pos + true_neg)\n",
    "    true_pos_rate = true_pos/(true_pos + false_neg)\n",
    "    \n",
    "    return true_pos_rate, false_pos_rate\n",
    "    \n",
    "    \n",
    "tpr, fpr = calculate_rates(y_pred, y_true)\n",
    "print(f'true positive rate: {tpr}, \\n false postive rate {fpr}')"
   ]
  },
  {
   "cell_type": "markdown",
   "metadata": {},
   "source": [
    "Model is predictingly nearlly all ones, due to imbalance in the class\n",
    "We will test both: \n",
    "\n",
    "*  oversampling and undersampling to ensure that the classifier gets input that has a balanced number of each class.\n",
    "  \n",
    "* Tell the classifier to penalize misclassifications of the less prevalent class more than the other class.\n"
   ]
  },
  {
   "cell_type": "markdown",
   "metadata": {},
   "source": [
    "## Balanced penalty\n",
    "> penality calculated automatically to be ~6 for misclassification"
   ]
  },
  {
   "cell_type": "code",
   "execution_count": 66,
   "metadata": {},
   "outputs": [
    {
     "name": "stdout",
     "output_type": "stream",
     "text": [
      "true positive rate: 0.5581234038528234, \n",
      " false postive rate 0.3699981035463683\n"
     ]
    }
   ],
   "source": [
    "bal_y, bal_true_y = fit_lr(class_weight = 'balanced')\n",
    "tpr_bal, fpr_bal = calculate_rates(bal_y, bal_true_y)\n",
    "print(f'true positive rate: {tpr_bal}, \\n false postive rate {fpr_bal}')"
   ]
  },
  {
   "cell_type": "markdown",
   "metadata": {},
   "source": [
    "tpr is reduced by ~ 50%, and fpr is reduced by ~ 66%"
   ]
  },
  {
   "cell_type": "markdown",
   "metadata": {},
   "source": [
    "> manual penalty set to 10:1"
   ]
  },
  {
   "cell_type": "code",
   "execution_count": 67,
   "metadata": {},
   "outputs": [
    {
     "name": "stdout",
     "output_type": "stream",
     "text": [
      "true positive rate: 0.16940442034240313, \n",
      " false postive rate 0.09444339085909349\n"
     ]
    }
   ],
   "source": [
    "penalty={\n",
    "    0:10, \n",
    "    1:1\n",
    "}\n",
    "\n",
    "man_pred_y, man_true_y = fit_lr(max_iter = 200, class_weight = penalty)\n",
    "tpr_man, fpr_man = calculate_rates(man_pred_y, man_true_y)\n",
    "print(f'true positive rate: {tpr_man}, \\n false postive rate {fpr_man}')\n"
   ]
  },
  {
   "cell_type": "markdown",
   "metadata": {},
   "source": [
    "fpr has been reduced to ~9%, will revist if necessary but first test random forest"
   ]
  },
  {
   "cell_type": "markdown",
   "metadata": {},
   "source": [
    "## Random Forest"
   ]
  },
  {
   "cell_type": "code",
   "execution_count": 73,
   "metadata": {},
   "outputs": [],
   "source": [
    "def fit_forest(n_estimators=400, class_weight=None, random_state=1):\n",
    "    rf = RandomForestClassifier(max_iter=n_estimators,random_state=random_state, class_weight=class_weight)\n",
    "    X = DATA.feature_data\n",
    "    y_true = DATA.target_data\n",
    "    y_pred = cross_val_predict(rf,X,y_true, cv=3)\n",
    "    return y_pred, y_true\n",
    "\n",
    "rf_y_pred, rf_y_true  = fit_lr()"
   ]
  },
  {
   "cell_type": "code",
   "execution_count": 74,
   "metadata": {},
   "outputs": [
    {
     "name": "stdout",
     "output_type": "stream",
     "text": [
      "true positive rate: 0.16940442034240313, \n",
      " false postive rate 0.09444339085909349\n"
     ]
    }
   ],
   "source": [
    "tpr_rf, fpr_rf = calculate_rates(rf_y_pred, rf_y_true)\n",
    "print(f'true positive rate: {tpr_man}, \\n false postive rate {fpr_man}')"
   ]
  },
  {
   "cell_type": "markdown",
   "metadata": {},
   "source": [
    "# Summary\n",
    "with the current data set, we have reached a minimumn fpr of 9.44%. If this is unsatisfactory, we will need to strategies feature engineering or additional modeling methods to improve performance "
   ]
  },
  {
   "cell_type": "code",
   "execution_count": null,
   "metadata": {},
   "outputs": [],
   "source": []
  }
 ],
 "metadata": {
  "kernelspec": {
   "display_name": "Python 3.10.6 ('loans')",
   "language": "python",
   "name": "python3"
  },
  "language_info": {
   "codemirror_mode": {
    "name": "ipython",
    "version": 3
   },
   "file_extension": ".py",
   "mimetype": "text/x-python",
   "name": "python",
   "nbconvert_exporter": "python",
   "pygments_lexer": "ipython3",
   "version": "3.10.6"
  },
  "orig_nbformat": 4,
  "vscode": {
   "interpreter": {
    "hash": "d5ec545b9fee06e9f787a1f47250a5e44f5387111aa2e08974d24661e173ef1f"
   }
  }
 },
 "nbformat": 4,
 "nbformat_minor": 2
}
