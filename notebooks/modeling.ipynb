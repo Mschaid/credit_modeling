{
 "cells": [
  {
   "cell_type": "code",
   "execution_count": 1,
   "metadata": {},
   "outputs": [],
   "source": [
    "%load_ext autoreload\n",
    "%autoreload 2"
   ]
  },
  {
   "cell_type": "code",
   "execution_count": 6,
   "metadata": {},
   "outputs": [],
   "source": [
    "import numpy as np\n",
    "import matplotlib.pyplot as plt\n",
    "import pandas as pd\n",
    "import re\n",
    "import seaborn as sns\n",
    "import seaborn.objects as so\n",
    "from sklearn.linear_model import LogisticRegression\n",
    "\n",
    "\n",
    "\n",
    "from src.DataProcessor import DataProcessor\n",
    "# TODO: create new env for loans, and isntall src"
   ]
  },
  {
   "cell_type": "code",
   "execution_count": 17,
   "metadata": {},
   "outputs": [],
   "source": [
    "PATH = r'C:\\Users\\mds8301\\Documents\\Github\\credit_modeling\\data\\loans_2007.csv'\n",
    "DATA = (DataProcessor(PATH, target = 'loan_status')\n",
    "        .load_data()\n",
    "        .clean_data()\n",
    "        .processes_dummies()\n",
    "        .extract_feature_names()\n",
    "        )"
   ]
  },
  {
   "cell_type": "code",
   "execution_count": 19,
   "metadata": {},
   "outputs": [
    {
     "data": {
      "text/plain": [
       "0        1\n",
       "1        0\n",
       "2        1\n",
       "3        1\n",
       "5        1\n",
       "        ..\n",
       "39631    1\n",
       "39642    1\n",
       "39692    0\n",
       "39735    0\n",
       "39749    1\n",
       "Name: loan_status, Length: 36990, dtype: int64"
      ]
     },
     "execution_count": 19,
     "metadata": {},
     "output_type": "execute_result"
    }
   ],
   "source": []
  },
  {
   "cell_type": "code",
   "execution_count": null,
   "metadata": {},
   "outputs": [],
   "source": []
  }
 ],
 "metadata": {
  "kernelspec": {
   "display_name": "Python 3.10.6 ('loans')",
   "language": "python",
   "name": "python3"
  },
  "language_info": {
   "codemirror_mode": {
    "name": "ipython",
    "version": 3
   },
   "file_extension": ".py",
   "mimetype": "text/x-python",
   "name": "python",
   "nbconvert_exporter": "python",
   "pygments_lexer": "ipython3",
   "version": "3.10.6"
  },
  "orig_nbformat": 4,
  "vscode": {
   "interpreter": {
    "hash": "0dc900b2dfd3ed5042243e23e1002e88468e66ce12e3bd9cfb8b2cc4a6a1efa0"
   }
  }
 },
 "nbformat": 4,
 "nbformat_minor": 2
}
